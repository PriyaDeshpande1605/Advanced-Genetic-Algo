{
  "cells": [
    {
      "cell_type": "markdown",
      "metadata": {
        "id": "view-in-github",
        "colab_type": "text"
      },
      "source": [
        "<a href=\"https://colab.research.google.com/github/PriyaDeshpande1605/Advanced-Genetic-Algo/blob/main/AI_Q2.ipynb\" target=\"_parent\"><img src=\"https://colab.research.google.com/assets/colab-badge.svg\" alt=\"Open In Colab\"/></a>"
      ]
    },
    {
      "cell_type": "code",
      "execution_count": null,
      "metadata": {
        "colab": {
          "background_save": true
        },
        "id": "lBWKKPM92ee3"
      },
      "outputs": [],
      "source": [
        "import numpy\n",
        "import random\n",
        "from itertools import count\n",
        "mutation_prob = .7\n",
        "import matplotlib.pyplot as plt\n",
        "random.seed(10)\n",
        "numpy.random.seed(42)\n"
      ]
    },
    {
      "cell_type": "code",
      "execution_count": null,
      "metadata": {
        "id": "d0BBq3XS3K20"
      },
      "outputs": [],
      "source": [
        "\n",
        "\n",
        "def mutate (path): # swap two random elements\n",
        "  r = random.random()\n",
        "  temp = 0\n",
        "  if r > mutation_prob: return path\n",
        "  index1 = random.randint(0,13)\n",
        "  index2 = random.randint(0,13)\n",
        "  temp = path[index1]\n",
        "  path[index1] = path[index2]\n",
        "  path[index2] = temp\n",
        "  return path\n",
        "\n",
        "def crossover ( path1, path2 ):\n",
        "  child = []\n",
        "  start = random.randint(0,13)\n",
        "  end = random.randint(start,14)\n",
        "\n",
        "  subset = path1[start:end]\n",
        "  k = 0\n",
        "  #print(subset)\n",
        "  for i in range(14):\n",
        "    if path2[i] not in subset:\n",
        "      if k == start: k = end\n",
        "      path1[k] = path2[i]\n",
        "      k+=1\n",
        "\n",
        "  return path1\n",
        "\n",
        "def crossover1 ( path1, path2 ):\n",
        "  child = []\n",
        "  start = random.randint(0,13)\n",
        "  end = random.randint(start,14)\n",
        "\n",
        "  subset = path1[start:end]\n",
        "  k = 0\n",
        "  #print(subset)\n",
        "  for i in range(14):\n",
        "    if i >= start and i < end: continue\n",
        "    while k < 14 and path2[k] in subset:\n",
        "      k+=1\n",
        "    path1[i] = path2[k]\n",
        "    k+=1\n",
        "  return path1\n",
        "\n",
        "\n",
        "  return path1\n",
        "\n",
        "def getcost ( distances, path ):\n",
        "  cost = 0\n",
        "  for i in range( len(path)-1):\n",
        "    cost+= distances[ord(path[i])-ord('A')][ord(path[i+1])-ord('A')]\n",
        "  cost+= distances[ord(path[-1])-ord('A')][ord(path[0])-ord('A')]\n",
        "  return cost\n",
        "\n",
        "def fitness (path,distances):\n",
        "  cost = getcost(distances, path)\n",
        "\n",
        "  return 1/cost\n",
        "  #return 1000/cost\n",
        "\n",
        "\n",
        "def crossover_prob ( population ,distances):\n",
        "  weights = []\n",
        "  total_fitness = 0\n",
        "  for i in range(len(population)):\n",
        "    total_fitness += fitness(population[i],distances)\n",
        "  for i in range(len(population)):\n",
        "    weights.append(fitness(population[i],distances)/ total_fitness)\n",
        "  parents = random.choices( population, weights ,k =  2 )\n",
        "  return parents\n",
        "\n",
        "\n"
      ]
    },
    {
      "cell_type": "code",
      "execution_count": null,
      "metadata": {
        "id": "cV-OHReU-hU_"
      },
      "outputs": [],
      "source": [
        "x = []\n",
        "y = []"
      ]
    },
    {
      "cell_type": "code",
      "execution_count": null,
      "metadata": {
        "id": "q4LPGl0r233t"
      },
      "outputs": [],
      "source": [
        "# paie wise distances\n",
        "inf = 1000\n",
        "distances = [[0,inf,inf,inf,inf,inf,.15,inf,inf,.2,inf,.12,inf,inf],\n",
        "[inf,0,inf,inf,inf,inf,inf,.19,.4,inf,inf,inf,inf,.13],\n",
        "[inf,inf,0,.6,.22,.4,inf,inf,.2,inf,inf,inf,inf,inf],\n",
        "[inf,inf,.6,0,inf,.21,inf,inf,inf,inf,.3,inf,inf,inf],\n",
        "[inf,inf,.22,inf,0,inf,inf,inf,.18,inf,inf,inf,inf,inf],\n",
        "[inf,inf,.4,.21,inf,0,inf,inf,inf,inf,.37,.6,.26,.9],\n",
        "[.15,inf,inf,inf,inf,inf,0,inf,inf,inf,.55,.18,inf,inf],\n",
        "[inf,.19,inf,inf,inf,inf,inf,0,inf,.56,inf,inf,inf,.17],\n",
        "[inf,.4,.2,inf,.18,inf,inf,inf,0,inf,inf,inf,inf,.6],\n",
        "[.2,inf,inf,inf,inf,inf,inf,.56,inf,0,inf,.16,inf,.5],\n",
        "[inf,inf,inf,.3,inf,.37,.55,inf,inf,inf,0,inf,.24,inf],\n",
        "[.12,inf,inf,inf,inf,.6,.18,inf,inf,.16,inf,0,.4,inf],\n",
        "[inf,inf,inf,inf,inf,.26,inf,inf,inf,inf,.24,.4,0,inf],\n",
        "[inf,.13,inf,inf,inf,.9,inf,.17,.6,.5,inf,inf,inf,0]]\n",
        "\n",
        "# initial population\n",
        "\n"
      ]
    },
    {
      "cell_type": "code",
      "execution_count": null,
      "metadata": {
        "id": "zmDIP7r5U0yx"
      },
      "outputs": [],
      "source": []
    },
    {
      "cell_type": "code",
      "execution_count": null,
      "metadata": {
        "id": "rdVDua1r3JsV"
      },
      "outputs": [],
      "source": [
        "def main():\n",
        "  max_iter = 100\n",
        "  mutation_prob = 0.9\n",
        "  best_fitness = 0\n",
        "  population = []\n",
        "  bestlist = []\n",
        "\n",
        "  for i in range (20):\n",
        "    population.append(['A','B','C','D','E','F','G','H','I','J','K','L','M','N'])\n",
        "  gen_best = -1\n",
        "  for i in range(max_iter):\n",
        "    new_population = []\n",
        "    x.append(i)\n",
        "    gen_best = 0\n",
        "    mutation_prob = 0.9*mutation_prob if mutation_prob >0.2 else 0.2\n",
        "    for j in range(len(population)+1):\n",
        "\n",
        "      # parent1_index = random.randint(0, len(population)-1 )\n",
        "      # parent2_index = random.randint(0, len(population)-1 )\n",
        "      # new_child = crossover( population[parent1_index], population[parent2_index] )\n",
        "\n",
        "      parents = crossover_prob(population,distances)\n",
        "      new_child = crossover( parents[0], parents[1] )\n",
        "\n",
        "      mutated_new_child = mutate(new_child)\n",
        "\n",
        "      new_population.append(mutated_new_child)\n",
        "      fit = fitness(mutated_new_child,distances)\n",
        "      #print(fit)\n",
        "      if fit > gen_best:\n",
        "        gen_best = fit\n",
        "        #print(gen_best)\n",
        "      if fit > best_fitness:\n",
        "        best_fitness = fit\n",
        "        #print(best_fitness)\n",
        "\n",
        "        print(mutated_new_child)\n",
        "        best_path = mutated_new_child\n",
        "    print(len(new_population))\n",
        "    population = new_population\n",
        "    y.append(gen_best)\n",
        "    if y.count( max(y) ) > 5: break\n",
        "\n",
        "  plt.plot(x,y)\n",
        "  plt.show\n",
        "  return best_path, best_fitness\n",
        "\n",
        ""
      ]
    },
    {
      "cell_type": "code",
      "source": [
        "from google.colab import drive\n",
        "drive.mount('/content/drive')"
      ],
      "metadata": {
        "id": "Qtql7i6n6jKQ"
      },
      "execution_count": null,
      "outputs": []
    },
    {
      "cell_type": "code",
      "execution_count": null,
      "metadata": {
        "colab": {
          "base_uri": "https://localhost:8080/",
          "height": 1000
        },
        "id": "mBUNAdMNFuee",
        "outputId": "f20f94b0-f92a-42af-a697-85a15a4205f8"
      },
      "outputs": [
        {
          "name": "stdout",
          "output_type": "stream",
          "text": [
            "['A', 'B', 'C', 'D', 'E', 'F', 'G', 'N', 'I', 'J', 'K', 'L', 'M', 'H']\n",
            "['A', 'F', 'C', 'D', 'E', 'B', 'G', 'H', 'I', 'J', 'K', 'L', 'M', 'N']\n",
            "['A', 'B', 'C', 'D', 'K', 'F', 'G', 'H', 'I', 'J', 'E', 'L', 'M', 'N']\n",
            "['A', 'H', 'C', 'D', 'K', 'F', 'G', 'B', 'I', 'J', 'E', 'L', 'M', 'N']\n",
            "['A', 'B', 'K', 'D', 'F', 'M', 'E', 'G', 'H', 'I', 'C', 'J', 'L', 'N']\n",
            "['A', 'G', 'C', 'D', 'K', 'F', 'H', 'B', 'I', 'J', 'E', 'L', 'M', 'N']\n",
            "21\n",
            "22\n",
            "23\n",
            "['L', 'M', 'B', 'I', 'J', 'H', 'K', 'C', 'E', 'N', 'D', 'F', 'G', 'A']\n",
            "24\n",
            "['D', 'C', 'L', 'A', 'J', 'G', 'K', 'E', 'N', 'B', 'H', 'M', 'F', 'I']\n",
            "25\n",
            "26\n",
            "27\n",
            "['D', 'N', 'K', 'A', 'J', 'H', 'B', 'G', 'L', 'E', 'I', 'C', 'M', 'F']\n",
            "28\n",
            "['F', 'N', 'I', 'E', 'L', 'G', 'A', 'J', 'H', 'B', 'D', 'K', 'M', 'C']\n",
            "29\n",
            "30\n",
            "31\n",
            "32\n",
            "33\n",
            "34\n",
            "35\n",
            "36\n",
            "37\n",
            "38\n",
            "39\n",
            "40\n",
            "41\n",
            "42\n",
            "43\n",
            "44\n",
            "45\n",
            "46\n",
            "47\n",
            "48\n",
            "49\n",
            "50\n",
            "51\n",
            "52\n",
            "53\n",
            "54\n",
            "55\n",
            "56\n",
            "57\n",
            "58\n",
            "59\n",
            "60\n",
            "61\n",
            "62\n",
            "63\n",
            "64\n",
            "65\n",
            "66\n",
            "67\n",
            "68\n",
            "69\n",
            "70\n",
            "71\n",
            "72\n",
            "73\n",
            "74\n",
            "75\n",
            "76\n",
            "77\n",
            "78\n",
            "79\n",
            "80\n",
            "81\n",
            "82\n",
            "83\n",
            "['A', 'J', 'N', 'B', 'I', 'C', 'E', 'H', 'G', 'M', 'K', 'D', 'F', 'L']\n",
            "84\n",
            "85\n",
            "86\n",
            "87\n",
            "88\n",
            "89\n",
            "90\n",
            "91\n",
            "92\n",
            "93\n",
            "94\n",
            "95\n",
            "96\n",
            "97\n",
            "98\n",
            "99\n",
            "100\n",
            "101\n",
            "102\n",
            "103\n",
            "104\n",
            "105\n",
            "106\n",
            "107\n",
            "108\n",
            "109\n",
            "110\n",
            "111\n",
            "112\n",
            "113\n",
            "114\n",
            "115\n",
            "116\n",
            "117\n",
            "118\n",
            "119\n",
            "120\n"
          ]
        },
        {
          "data": {
            "image/png": "[encoded data removed]",
            "text/plain": [
              "<Figure size 432x288 with 1 Axes>"
            ]
          },
          "metadata": {
            "tags": []
          },
          "output_type": "display_data"
        }
      ],
      "source": [
        "obj = main()"
      ]
    },
    {
      "cell_type": "code",
      "execution_count": null,
      "metadata": {
        "colab": {
          "base_uri": "https://localhost:8080/"
        },
        "id": "se6P95pzWp5P",
        "outputId": "32fdb69d-d687-41a5-aeed-db879a110686"
      },
      "outputs": [
        {
          "data": {
            "text/plain": [
              "(['M', 'E', 'N', 'F', 'L', 'J', 'A', 'B', 'K', 'I', 'C', 'H', 'G', 'D'],\n",
              " 0.0003329870268254349)"
            ]
          },
          "execution_count": 23,
          "metadata": {
            "tags": []
          },
          "output_type": "execute_result"
        }
      ],
      "source": [
        "obj"
      ]
    },
    {
      "cell_type": "code",
      "execution_count": null,
      "metadata": {
        "id": "wAzzsyL9Rn5F"
      },
      "outputs": [],
      "source": []
    }
  ],
  "metadata": {
    "colab": {
      "provenance": [],
      "include_colab_link": true
    },
    "kernelspec": {
      "display_name": "Python 3",
      "name": "python3"
    }
  },
  "nbformat": 4,
  "nbformat_minor": 0
}